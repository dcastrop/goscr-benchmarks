{
 "cells": [
  {
   "cell_type": "markdown",
   "metadata": {
    "id": "tAMBbD54wPk3"
   },
   "source": [
    "## Imports and Constants"
   ]
  },
  {
   "cell_type": "code",
   "execution_count": 20,
   "metadata": {
    "id": "Y0nciONjXQpS"
   },
   "outputs": [],
   "source": [
    "%matplotlib inline\n",
    "import matplotlib\n",
    "import matplotlib.pyplot as plt\n",
    "import numpy as np\n",
    "\n",
    "from typing import Dict, List, Set, Tuple"
   ]
  },
  {
   "cell_type": "code",
   "execution_count": 21,
   "metadata": {
    "id": "8u0BrF3iSbg6"
   },
   "outputs": [],
   "source": [
    "TICK_SIZE = 18\n",
    "XLABEL = 25\n",
    "YLABEL = 20\n",
    "TITLE_SIZE = 28"
   ]
  },
  {
   "cell_type": "markdown",
   "metadata": {
    "id": "jOjiXr4wwXrw"
   },
   "source": [
    "## Parsing"
   ]
  },
  {
   "cell_type": "code",
   "execution_count": 22,
   "metadata": {
    "id": "sjG9YvjcXRu1"
   },
   "outputs": [],
   "source": [
    "def parse_result(res):\n",
    "    _, res_str = res.split(\": \")\n",
    "    return int(res_str)\n",
    "\n",
    "def parse_line(line):\n",
    "    # print(line)\n",
    "    param, results = line.split(\" - \")\n",
    "    mean_res, sd_res = results.split(\", \")\n",
    "    return int(param), parse_result(mean_res), sd_res.rstrip()\n",
    "\n",
    "def parse_file(name):\n",
    "    with open(name, \"r\") as f:\n",
    "        lines = f.readlines()\n",
    "        idx = 0\n",
    "        results = {}\n",
    "        while (idx < len(lines)):\n",
    "            result_name = lines[idx].rstrip()\n",
    "            idx += 1\n",
    "            result = {}\n",
    "            while (True):\n",
    "                result_line = lines[idx]\n",
    "                param, mean, sd = parse_line(result_line)\n",
    "                \n",
    "                result[param] = mean\n",
    "\n",
    "                idx += 2\n",
    "                if lines[idx].rstrip() == \";;\":\n",
    "                    idx += 1\n",
    "                    break\n",
    "\n",
    "            results[result_name] = result\n",
    "\n",
    "        return results\n"
   ]
  },
  {
   "cell_type": "markdown",
   "metadata": {
    "id": "EELogg2gwujW"
   },
   "source": [
    "## Preprocessing and Utils"
   ]
  },
  {
   "cell_type": "code",
   "execution_count": 23,
   "metadata": {
    "id": "LbxM-scecSnD"
   },
   "outputs": [],
   "source": [
    "regex_params = [1000, 10000, 100000, 500000, 1000000, 5000000, 10000000, 25000000]\n",
    "knucl_params = [1000, 10000, 50000, 100000, 500000, 1000000, 2500000, 5000000]\n",
    "\n",
    "def replace_params(key, params, all_results):\n",
    "    if key in all_results:\n",
    "        results = all_results[key]\n",
    "        results = {params[k]: v for k, v in results.items()}\n",
    "        all_results[key] = results\n",
    "\n",
    "def update_params(results):\n",
    "    to_update = {\"regexredux\":regex_params, \"knucleotide\":knucl_params}\n",
    "    for protocol, params in to_update.items():\n",
    "        replace_params(f\"{protocol}-scribble\", params, results)\n",
    "        replace_params(f\"{protocol}-base\", params, results)\n",
    "\n",
    "def result_points(results):\n",
    "    sorted_keys = sorted(list(results.keys()))\n",
    "    y_values = [results[key] for key in sorted_keys]\n",
    "    return sorted_keys, y_values"
   ]
  },
  {
   "cell_type": "markdown",
   "metadata": {
    "id": "Uc4NrH4VzYO5"
   },
   "source": [
    "## Plot functions"
   ]
  },
  {
   "cell_type": "markdown",
   "metadata": {
    "id": "Z2NgRAw299ZI"
   },
   "source": [
    "### Utils"
   ]
  },
  {
   "cell_type": "code",
   "execution_count": 24,
   "metadata": {
    "colab": {
     "base_uri": "https://localhost:8080/",
     "height": 280
    },
    "id": "XJocnNbT9mIX",
    "outputId": "dd221ad4-dd70-45e4-b9dd-7e19e55f026f"
   },
   "outputs": [
    {
     "data": {
      "image/png": "[encoded data removed]",
      "text/plain": [
       "<Figure size 432x288 with 1 Axes>"
      ]
     },
     "metadata": {
      "needs_background": "light"
     },
     "output_type": "display_data"
    }
   ],
   "source": [
    "plt.xticks(fontsize=TICK_SIZE)\n",
    "plt.yticks(fontsize=TICK_SIZE)\n",
    "\n",
    "def gen_baseline(x):\n",
    "    baseline = np.linspace(x[0], x[-1], 1000 )\n",
    "    return baseline\n",
    "\n",
    "def get_ratios(base, scr):\n",
    "    ratios = np.array(base) / np.array(scr)\n",
    "    return ratios"
   ]
  },
  {
   "cell_type": "markdown",
   "metadata": {
    "id": "zSRfHVNb86sT"
   },
   "source": [
    "### Plot Quicksort"
   ]
  },
  {
   "cell_type": "code",
   "execution_count": 25,
   "metadata": {
    "colab": {
     "base_uri": "https://localhost:8080/"
    },
    "id": "bJgb1ZmygI8q",
    "outputId": "86e64ea9-aa95-42d8-d857-642e7e74e64f"
   },
   "outputs": [
    {
     "data": {
      "text/plain": [
       "{'divide': 'raise', 'over': 'raise', 'under': 'raise', 'invalid': 'raise'}"
      ]
     },
     "execution_count": 25,
     "metadata": {},
     "output_type": "execute_result"
    }
   ],
   "source": [
    "incr = 500\n",
    "start = 500\n",
    "\n",
    "# traces_to_plot = {500, 1500, 3500, 5500, 9500}\n",
    "\n",
    "traces_to_plot = {1500, 3500, 5500, 6500, 8500}\n",
    "\n",
    "\n",
    "def quicksort_trace_label(threshold: int):\n",
    "    return f\"T={threshold}\"\n",
    "\n",
    "def plot_quicksort(filename):\n",
    "    all_results = {}\n",
    "    for i in range(start, 10001, incr):\n",
    "        if i not in traces_to_plot:\n",
    "            continue\n",
    "        \n",
    "        benchmark_results = parse_file(f\"{filename}{i}.txt\")\n",
    "        x, scribble_results = result_points(benchmark_results[\"quicksort-scribble\"])\n",
    "        _, base_results = result_points(benchmark_results[\"quicksort-base\"])\n",
    "        print(i, base_results[0], base_results[-1])\n",
    "        ratios = get_ratios(base_results, scribble_results)\n",
    "        all_results[quicksort_trace_label(i)] = ratios[:]\n",
    "    baseline = gen_baseline(x[:])\n",
    "    # plot_all(x[:], all_results, baseline)\n",
    "    plot_multiple_traces(x[:], all_results, baseline, \"quicksort\", \"Array size\")\n",
    "\n",
    "\n",
    "np.seterr(\"raise\")\n",
    "# plot_quicksort(\"benchmark-results\")"
   ]
  },
  {
   "cell_type": "markdown",
   "metadata": {
    "id": "8X-cVzAH9Gan"
   },
   "source": [
    "### Plot graphs one by one"
   ]
  },
  {
   "cell_type": "code",
   "execution_count": 26,
   "metadata": {
    "id": "hHdhVKJpW41A"
   },
   "outputs": [],
   "source": [
    "trace_labels = {\"fannkuch\": \"fannkuch\", \n",
    "          \"primesieve\": \"bounded prime sieve\", \n",
    "          \"knucleotide\": \"k-nucleotide\", \n",
    "          \"regexredux\": \"regex-redux\", \n",
    "          \"spectralnorm\": \"spectral-norm\",\n",
    "          \"quicksort\": \"quicksort\",\n",
    "          \"boundedfibonacci\": \"bounded fib\"}\n",
    "labels = {\"fannkuch\": \"Permutation size\", \n",
    "          \"primesieve\": \"Upper bound\", \n",
    "          \"knucleotide\": \"Sequence length\", \n",
    "          \"regexredux\": \"Sequence length\", \n",
    "          \"spectralnorm\": \"Num Iterations\",\n",
    "          \"quicksort\": \"Array size\",\n",
    "          \"boundedfibonacci\": \"Nth term\"}\n",
    "\n",
    "def plot_single_graph(x, scr, base, label, trace_label):\n",
    "    np.seterr(\"raise\")\n",
    "    baseline = np.linspace(x[0], x[-1], 1000)\n",
    "    plt.plot(baseline, baseline / baseline, linestyle=\"dashed\", color=\"green\", label=\"baseline\")\n",
    "    ratios = np.array(base) / np.array(scr)\n",
    "    plt.xticks(fontsize=TICK_SIZE)\n",
    "    # plt.yticks(ticks=[0.2, 0.4, 0.6, 0.8, 1.0, 1.2], fontsize=TICK_SIZE)\n",
    "    plt.yticks(fontsize=TICK_SIZE)\n",
    "    plt.ylim((0.1, 1.4))\n",
    "    plt.plot(x, ratios, label=trace_label)\n",
    "    \n",
    "    plt.title(trace_label, fontdict={\"fontsize\":TITLE_SIZE, \"fontweight\":\"bold\"})\n",
    "    plt.xlabel(label, fontsize=XLABEL)\n",
    "    # plt.ylabel(\"Relative Ratio\", fontsize=YLABEL)\n",
    "\n",
    "def y_min_max(results, start=None, end=None):\n",
    "    y_max = 1.0\n",
    "    y_min = 1.0\n",
    "    if start is None:\n",
    "        start_idx = 0\n",
    "    else:\n",
    "        start_idx = start\n",
    "    for protocol in trace_labels.keys():\n",
    "        scribble_name = f\"{protocol}-scribble\"\n",
    "        base_name = f\"{protocol}-base\"\n",
    "        if scribble_name not in results:\n",
    "            continue\n",
    "        x, scribble_results = result_points(results[scribble_name])\n",
    "        _, base_results = result_points(results[base_name])\n",
    "        if end is None:\n",
    "            end_idx = len(scribble_results)\n",
    "        else:\n",
    "            end_idx = end\n",
    "        ratios = (np.array(base_results[start:end]) / np.array(scribble_results[start:end]))[start_idx:end_idx]\n",
    "        y_min = min(y_min, min(ratios))\n",
    "        y_max = max(y_max, max(ratios))\n",
    "    return y_min * 0.95, y_max *1.05\n",
    "\n",
    "def plot_with_labels(results, start=None, end=None, y_lim=None):\n",
    "    idx=0\n",
    "    if start is None:\n",
    "        start_idx = 0\n",
    "    else:\n",
    "        start_idx = start\n",
    "    if y_lim is None:\n",
    "        y_min, y_max = y_min_max(results, start, end)\n",
    "        y_min *= 0.99\n",
    "        y_max *= 1.01\n",
    "    else:\n",
    "        y_min, y_max = y_lim\n",
    "    for protocol in trace_labels.keys():\n",
    "        scribble_name = f\"{protocol}-scribble\"\n",
    "        base_name = f\"{protocol}-base\"\n",
    "        if scribble_name not in results:\n",
    "            print(scribble_name)\n",
    "            continue\n",
    "\n",
    "        print(protocol)\n",
    "\n",
    "        x, scribble_results = result_points(results[scribble_name])\n",
    "        _, base_results = result_points(results[base_name])\n",
    "        if end is None:\n",
    "            end_idx = len(scribble_results)\n",
    "        else:\n",
    "            end_idx = end\n",
    "        plt.figure(figsize=(6, 3))\n",
    "        plot_single_graph(x[start:end], scribble_results[start:end], base_results[start:end], label=labels[protocol], trace_label=trace_labels[protocol])\n",
    "\n",
    "\n",
    "\n",
    "        idx += 1\n",
    "        ax = plt.gca()\n",
    "        t = ax.xaxis.get_offset_text()\n",
    "        t.set_size(TICK_SIZE)\n",
    "\n",
    "        plt.savefig(f\"performance{idx}.png\", bbox_inches='tight')\n",
    "        plt.show()\n",
    "\n",
    "    "
   ]
  },
  {
   "cell_type": "markdown",
   "metadata": {
    "id": "wvOvQiiq9Yfu"
   },
   "source": [
    "### Plot Overhead Breakdown\n",
    "\n",
    "Protocols bounded prime sieve and bounded fibonacci"
   ]
  },
  {
   "cell_type": "code",
   "execution_count": 27,
   "metadata": {
    "id": "QJ2Uify29X_x"
   },
   "outputs": [],
   "source": [
    "\n",
    "\n",
    "sieve_baselines_trace_info = {\"primesieve-no-callbacks\":\"no callbacks\",\n",
    "                      \"primesieve-opt-invitations\": \"opt invitations\",\n",
    "                      \"primesieve-optimised\": \"fully optimised\"}\n",
    "sieve_scribble_trace_info = \"primesieve-scribble\"\n",
    "\n",
    "fib_baselines_trace_info = {\"bfib-no-callbacks\":\"no callbacks\",\n",
    "                      \"bfib-opt-invitations\": \"opt invitations\",\n",
    "                      \"bfib-opt-labelled-msgs\": \"opt labelled msgs\",\n",
    "                      \"bfib-optimised\": \"fully optimised\"}\n",
    "fib_scribble_trace_info = \"bfib-scribble\"\n",
    "\n",
    "def plot_multiple_traces(x: List[float], results:Dict[str, List[float]], baseline: List[float], title=\"\", xlabel=\"\"):\n",
    "    # List[float] => np.array(float64)\n",
    "    for trace_label, ratios in results.items():\n",
    "        plt.plot(x, ratios, label=trace_label)\n",
    "    plt.plot(baseline, baseline / baseline, linestyle=\"dashed\", color=\"green\", label=\"baseline\")\n",
    "    plt.legend(bbox_to_anchor=(0.48,-0.8), loc=\"lower center\", prop={'size': TICK_SIZE},ncol=2)\n",
    "    plt.xlabel(xlabel, fontsize=XLABEL)\n",
    "    plt.xticks(fontsize=TICK_SIZE)\n",
    "    plt.yticks(fontsize=TICK_SIZE)\n",
    "    ax = plt.gca()\n",
    "    t = ax.xaxis.get_offset_text()\n",
    "    t.set_size(TICK_SIZE)\n",
    "    # plt.ylabel(\"Relative Ratio\", fontsize=YLABEL)\n",
    "    plt.title(title, fontdict={\"fontsize\":TITLE_SIZE, \"fontweight\":\"bold\"})\n",
    "    plt.savefig(f\"{title}.png\", bbox_inches='tight')\n",
    "\n",
    "    plt.show()\n",
    "\n",
    "def plot_overheads(scr_trace: str, baseline_traces: Dict[str, str], title: str=\"\", xlabel:str=\"\"):\n",
    "    all_results = {}\n",
    "\n",
    "    benchmark_results = parse_file(f\"{scr_trace}.txt\")\n",
    "    x, scribble_results = result_points(benchmark_results[scr_trace])\n",
    "\n",
    "    for trace_name, trace_label in baseline_traces.items():\n",
    "        benchmark_results = parse_file(f\"{trace_name}.txt\")\n",
    "        x, base_results = result_points(benchmark_results[trace_name])\n",
    "        ratios = get_ratios(base_results, scribble_results)\n",
    "        all_results[trace_label] = ratios[:]\n",
    "    baseline = gen_baseline(x[:])\n",
    "    plot_multiple_traces(x[:], all_results, baseline, title, xlabel)\n",
    "\n",
    "def plot_primesieve_overheads():\n",
    "    plot_overheads(sieve_scribble_trace_info, sieve_baselines_trace_info, \"bounded prime sieve\", \"Upper Bound\")\n",
    "\n",
    "def plot_bfib_overheads():\n",
    "    plot_overheads(fib_scribble_trace_info, fib_baselines_trace_info, \"bounded fibonacci\", \"Nth Term\")\n"
   ]
  },
  {
   "cell_type": "markdown",
   "metadata": {
    "id": "E2_bVkGg9Rhy"
   },
   "source": [
    "## Generate plots"
   ]
  },
  {
   "cell_type": "code",
   "execution_count": 29,
   "metadata": {
    "colab": {
     "base_uri": "https://localhost:8080/",
     "height": 350
    },
    "id": "q7whfmUUl0Xc",
    "outputId": "bd1b7e2e-8269-48a7-a64b-403e9334ac8e"
   },
   "outputs": [
    {
     "name": "stdout",
     "output_type": "stream",
     "text": [
      "1500 47 1332048\n",
      "3500 47 1288433\n",
      "5500 47 1294453\n",
      "6500 47 1273581\n",
      "8500 46 1266349\n"
     ]
    },
    {
     "data": {
      "image/png": "[encoded data removed]",
      "text/plain": [
       "<Figure size 432x288 with 1 Axes>"
      ]
     },
     "metadata": {
      "needs_background": "light"
     },
     "output_type": "display_data"
    },
    {
     "name": "stdout",
     "output_type": "stream",
     "text": [
      "fannkuch-scribble\n",
      "primesieve-scribble\n",
      "knucleotide-scribble\n",
      "regexredux-scribble\n",
      "spectralnorm-scribble\n",
      "quicksort-scribble\n",
      "boundedfibonacci\n"
     ]
    },
    {
     "data": {
      "image/png": "[encoded data removed]",
      "text/plain": [
       "<Figure size 432x216 with 1 Axes>"
      ]
     },
     "metadata": {
      "needs_background": "light"
     },
     "output_type": "display_data"
    }
   ],
   "source": [
    "# new-bm/\n",
    "plot_quicksort(\"benchmark-results\")\n",
    "# benchmark_results = parse_file(\"new-results.txt\")\n",
    "# update_params(benchmark_results)\n",
    "# plot_with_labels(benchmark_results)\n",
    "benchmark_results = parse_file(\"benchmark-results.txt\")\n",
    "update_params(benchmark_results)\n",
    "plot_with_labels(benchmark_results)\n",
    "#plot_primesieve_overheads()\n",
    "#plot_bfib_overheads()"
   ]
  },
  {
   "cell_type": "markdown",
   "metadata": {
    "id": "PGJBiql7Me_Q"
   },
   "source": [
    "# New section"
   ]
  },
  {
   "cell_type": "code",
   "execution_count": 10,
   "metadata": {
    "colab": {
     "base_uri": "https://localhost:8080/",
     "height": 214
    },
    "id": "-X6XodgDOQ05",
    "outputId": "ccb9ee73-6ce0-4c9d-9323-a1b5f752226c"
   },
   "outputs": [
    {
     "name": "stdout",
     "output_type": "stream",
     "text": [
      "(['boundedfibonacci-base', 'boundedfibonacci-scribble', 'fannkuch-base', 'fannkuch-scribble', 'knucleotide-base', 'knucleotide-scribble', 'primesieve-base', 'primesieve-scribble', 'regexredux-base', 'regexredux-scribble', 'spectralnorm-base', 'spectralnorm-scribble'], [{5: 2, 10: 6, 15: 9, 20: 12, 25: 16}, {5: 7, 10: 15, 15: 22, 20: 30, 25: 38}, {6: 270, 7: 638, 8: 2078, 11: 397391, 12: 5471832, 4: 7, 5: 41, 9: 14669, 10: 49933}, {7: 803, 10: 49607, 11: 424279, 12: 5854755, 4: 14, 5: 68, 6: 375, 8: 2226, 9: 15149}, {500000: 147539, 1000000: 269369, 2500000: 635413, 5000000: 1205350, 1000: 844, 10000: 6604, 50000: 31478, 100000: 44664}, {2500000: 631698, 5000000: 1209250, 1000: 892, 10000: 6803, 50000: 31886, 100000: 45078, 500000: 146807, 1000000: 269930}, {4100: 26656, 5100: 38591, 7100: 68244, 8100: 85198, 2100: 8626, 3100: 16501, 6100: 52236, 9100: 104356, 100: 71, 1100: 2997}, {100: 93, 3100: 21013, 4100: 34028, 8100: 108730, 9100: 132710, 1100: 3787, 2100: 10951, 5100: 49207, 6100: 66723, 7100: 86761}, {5000000: 2977902, 10000000: 5948421, 25000000: 14845984, 1000: 914, 10000: 6492, 100000: 59668, 500000: 296539, 1000000: 596204}, {10000000: 5950039, 25000000: 14911539, 1000: 862, 10000: 6334, 100000: 59798, 500000: 296960, 1000000: 596050, 5000000: 2987322}, {100: 1240, 500: 12676, 1500: 87961, 2500: 240786, 3500: 470576, 4500: 775530, 5500: 1158946}, {1500: 84065, 2500: 226835, 3500: 437036, 4500: 731123, 5500: 1089276, 100: 1341, 500: 12655}])\n",
      "boundedfibonacci-base 2 16\n",
      "boundedfibonacci-scribble 7 38\n",
      "fannkuch-base 7 5471832\n",
      "fannkuch-scribble 14 5854755\n",
      "knucleotide-base 844 1205350\n",
      "knucleotide-scribble 892 1209250\n",
      "primesieve-base 71 104356\n",
      "primesieve-scribble 93 132710\n",
      "regexredux-base 914 14845984\n",
      "regexredux-scribble 862 14911539\n",
      "spectralnorm-base 1240 1158946\n",
      "spectralnorm-scribble 1341 1089276\n"
     ]
    }
   ],
   "source": [
    "print(result_points(benchmark_results))\n",
    "protocols, results = result_points(benchmark_results)\n",
    "for p, res in zip(protocols, results):\n",
    "    print(p, res[min(res.keys())], res[max(res.keys())])"
   ]
  },
  {
   "cell_type": "code",
   "execution_count": null,
   "metadata": {
    "id": "QG_-ywhFZBa5"
   },
   "outputs": [],
   "source": []
  }
 ],
 "metadata": {
  "colab": {
   "collapsed_sections": [],
   "name": "benchmark2",
   "provenance": []
  },
  "kernelspec": {
   "display_name": "Python 3",
   "language": "python",
   "name": "python3"
  },
  "language_info": {
   "codemirror_mode": {
    "name": "ipython",
    "version": 3
   },
   "file_extension": ".py",
   "mimetype": "text/x-python",
   "name": "python",
   "nbconvert_exporter": "python",
   "pygments_lexer": "ipython3",
   "version": "3.8.5"
  }
 },
 "nbformat": 4,
 "nbformat_minor": 4
}
